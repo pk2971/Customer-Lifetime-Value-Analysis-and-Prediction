{
  "nbformat": 4,
  "nbformat_minor": 0,
  "metadata": {
    "colab": {
      "provenance": [],
      "authorship_tag": "ABX9TyM6MDeAXFmMsfyhdJmYsz2F",
      "include_colab_link": true
    },
    "kernelspec": {
      "name": "python3",
      "display_name": "Python 3"
    },
    "language_info": {
      "name": "python"
    }
  },
  "cells": [
    {
      "cell_type": "markdown",
      "metadata": {
        "id": "view-in-github",
        "colab_type": "text"
      },
      "source": [
        "<a href=\"https://colab.research.google.com/github/pk2971/Customer-Lifetime-Value-Analysis-and-Prediction/blob/main/Customer_Lifetime_Value_Prediction.ipynb\" target=\"_parent\"><img src=\"https://colab.research.google.com/assets/colab-badge.svg\" alt=\"Open In Colab\"/></a>"
      ]
    },
    {
      "cell_type": "code",
      "execution_count": 40,
      "metadata": {
        "id": "FSGhmY_WKYPG"
      },
      "outputs": [],
      "source": [
        "import pandas as pd\n",
        "import matplotlib.pyplot as plt\n",
        "import seaborn as sns"
      ]
    },
    {
      "cell_type": "code",
      "source": [
        "df=pd.read_csv('RFMScores.csv')"
      ],
      "metadata": {
        "id": "kxzb9hAlKiTI"
      },
      "execution_count": 3,
      "outputs": []
    },
    {
      "cell_type": "code",
      "source": [
        "df_user=pd.DataFrame(df.groupby('CustomerID')['Revenue'].sum().reset_index())"
      ],
      "metadata": {
        "id": "mkZbXREXvVdU"
      },
      "execution_count": 13,
      "outputs": []
    },
    {
      "cell_type": "code",
      "source": [
        "df['Revenue'].max()"
      ],
      "metadata": {
        "colab": {
          "base_uri": "https://localhost:8080/"
        },
        "id": "ZQrQhZrcvgyj",
        "outputId": "96c3a4eb-7087-4809-d950-4c54704e456d"
      },
      "execution_count": 22,
      "outputs": [
        {
          "output_type": "execute_result",
          "data": {
            "text/plain": [
              "279489.02"
            ]
          },
          "metadata": {},
          "execution_count": 22
        }
      ]
    },
    {
      "cell_type": "markdown",
      "source": [
        "**Since there is no cost specified in the dataset, the Revenue becomes our LTV here in this project.**"
      ],
      "metadata": {
        "id": "d3xd6dmws7ae"
      }
    },
    {
      "cell_type": "code",
      "source": [
        "#plot LTV histogram\n",
        "\n",
        "import plotly as py\n",
        "import plotly.offline as pyoff\n",
        "import plotly.graph_objs as go\n",
        "\n",
        "plot_data = [\n",
        "    go.Histogram(\n",
        "        x=df.query('Revenue<20000')['Revenue']\n",
        "    )\n",
        "]\n",
        "\n",
        "plot_layout = go.Layout(\n",
        "        title='Revenue'\n",
        "    )\n",
        "fig = go.Figure(data=plot_data, layout=plot_layout)\n",
        "pyoff.iplot(fig)"
      ],
      "metadata": {
        "id": "5jM-m8tMKoVE"
      },
      "execution_count": null,
      "outputs": []
    },
    {
      "cell_type": "markdown",
      "source": [
        "There are some negative and outlier revenue values based off the graph."
      ],
      "metadata": {
        "id": "SlWaeCEryRoI"
      }
    },
    {
      "cell_type": "markdown",
      "source": [
        "**We want to find the correlation between RFM scores and LTV/Revenue**"
      ],
      "metadata": {
        "id": "P4VLdNmcysf5"
      }
    },
    {
      "cell_type": "code",
      "source": [
        "df_corr=pd.DataFrame()\n",
        "df_corr['OverallScore']=pd.DataFrame(df['OverallScore'])\n",
        "df_corr['Revenue']=pd.DataFrame(df['Revenue'])"
      ],
      "metadata": {
        "id": "9hGX5RksuIr1"
      },
      "execution_count": 37,
      "outputs": []
    },
    {
      "cell_type": "code",
      "source": [
        "corr=df_corr['Revenue'].corr(df_corr['OverallScore'])\n",
        "corr"
      ],
      "metadata": {
        "colab": {
          "base_uri": "https://localhost:8080/"
        },
        "id": "8kYhAyZPzy0r",
        "outputId": "9d19ba2d-013c-4df4-d094-83f3d9a36875"
      },
      "execution_count": 39,
      "outputs": [
        {
          "output_type": "execute_result",
          "data": {
            "text/plain": [
              "0.3386547571763006"
            ]
          },
          "metadata": {},
          "execution_count": 39
        }
      ]
    },
    {
      "cell_type": "code",
      "source": [
        "sns.scatterplot(x=df['OverallScore'],y=df['Revenue'],hue=df['Segment'])\n",
        "plt.xlabel(\"Overall Score\", labelpad=15)\n",
        "plt.ylabel(\"LTV\", labelpad=15)\n",
        "plt.title(\"Distribution of OverallScore by LTV\", y=1.013);\n",
        "plt.figure(figsize=(20,10)) "
      ],
      "metadata": {
        "colab": {
          "base_uri": "https://localhost:8080/",
          "height": 349
        },
        "id": "2wS1Ni7G1F6G",
        "outputId": "fa2ea5e0-adcd-4cb7-e88a-4957524804de"
      },
      "execution_count": 49,
      "outputs": [
        {
          "output_type": "execute_result",
          "data": {
            "text/plain": [
              "<Figure size 1440x720 with 0 Axes>"
            ]
          },
          "metadata": {},
          "execution_count": 49
        },
        {
          "output_type": "display_data",
          "data": {
            "text/plain": [
              "<Figure size 432x288 with 1 Axes>"
            ],
            "image/png": "[encoded data removed]"
          },
          "metadata": {}
        },
        {
          "output_type": "display_data",
          "data": {
            "text/plain": [
              "<Figure size 1440x720 with 0 Axes>"
            ]
          },
          "metadata": {}
        }
      ]
    },
    {
      "cell_type": "markdown",
      "source": [
        "\n",
        "We can see that high RFM means high LTV. There is a positive correlation here"
      ],
      "metadata": {
        "id": "YWDH1jcR1upo"
      }
    },
    {
      "cell_type": "markdown",
      "source": [
        "\n",
        "\n",
        "**We use regression to predict LTV**\n",
        "\n",
        "We want to segment the LTV as Low LTV, Mid LTV and High LTV. We will once again perform this segmentation using K-Means clustering."
      ],
      "metadata": {
        "id": "fPvOUrPm57xk"
      }
    },
    {
      "cell_type": "code",
      "source": [
        "from sklearn.cluster import KMeans\n",
        "kmeans = KMeans(n_clusters=3)\n",
        "kmeans.fit(df[['Revenue']])\n",
        "df['LTVCluster'] = kmeans.predict(df[['Revenue']])\n",
        "\n",
        "def order_cluster(cluster_field_name, target_field_name,df,ascending):\n",
        "    new_cluster_field_name = 'new_' + cluster_field_name\n",
        "    df_new = df.groupby(cluster_field_name)[target_field_name].mean().reset_index()\n",
        "    df_new = df_new.sort_values(by=target_field_name,ascending=ascending).reset_index(drop=True)\n",
        "    df_new['index'] = df_new.index\n",
        "    df_final = pd.merge(df,df_new[[cluster_field_name,'index']], on=cluster_field_name)\n",
        "    df_final = df_final.drop([cluster_field_name],axis=1)\n",
        "    df_final = df_final.rename(columns={\"index\":cluster_field_name})\n",
        "    return df_final\n",
        "df = order_cluster('LTVCluster', 'Revenue',df,True)"
      ],
      "metadata": {
        "id": "Ttatjgyc6Xr9"
      },
      "execution_count": 53,
      "outputs": []
    },
    {
      "cell_type": "code",
      "source": [
        "df.groupby('LTVCluster')['Revenue'].describe()\n",
        "#Before removing outliers"
      ],
      "metadata": {
        "colab": {
          "base_uri": "https://localhost:8080/",
          "height": 175
        },
        "id": "UNZMRL5T67MX",
        "outputId": "91af1ea0-dbfe-4232-d041-bf47a92e3c84"
      },
      "execution_count": 54,
      "outputs": [
        {
          "output_type": "execute_result",
          "data": {
            "text/plain": [
              "             count           mean           std        min         25%  \\\n",
              "LTVCluster                                                               \n",
              "0           4339.0    1391.915057   2196.754400   -4287.63     291.475   \n",
              "1             30.0   51237.890000  28724.151854   26626.80   30550.635   \n",
              "2              3.0  241136.560000  47874.073443  187482.17  221960.330   \n",
              "\n",
              "                   50%          75%        max  \n",
              "LTVCluster                                      \n",
              "0              642.020    1561.0700   25748.35  \n",
              "1            45378.135   57319.6375  132572.62  \n",
              "2           256438.490  267963.7550  279489.02  "
            ],
            "text/html": [
              "\n",
              "  <div id=\"df-86f84ae7-a3cf-4912-a82d-b006079c25b6\">\n",
              "    <div class=\"colab-df-container\">\n",
              "      <div>\n",
              "<style scoped>\n",
              "    .dataframe tbody tr th:only-of-type {\n",
              "        vertical-align: middle;\n",
              "    }\n",
              "\n",
              "    .dataframe tbody tr th {\n",
              "        vertical-align: top;\n",
              "    }\n",
              "\n",
              "    .dataframe thead th {\n",
              "        text-align: right;\n",
              "    }\n",
              "</style>\n",
              "<table border=\"1\" class=\"dataframe\">\n",
              "  <thead>\n",
              "    <tr style=\"text-align: right;\">\n",
              "      <th></th>\n",
              "      <th>count</th>\n",
              "      <th>mean</th>\n",
              "      <th>std</th>\n",
              "      <th>min</th>\n",
              "      <th>25%</th>\n",
              "      <th>50%</th>\n",
              "      <th>75%</th>\n",
              "      <th>max</th>\n",
              "    </tr>\n",
              "    <tr>\n",
              "      <th>LTVCluster</th>\n",
              "      <th></th>\n",
              "      <th></th>\n",
              "      <th></th>\n",
              "      <th></th>\n",
              "      <th></th>\n",
              "      <th></th>\n",
              "      <th></th>\n",
              "      <th></th>\n",
              "    </tr>\n",
              "  </thead>\n",
              "  <tbody>\n",
              "    <tr>\n",
              "      <th>0</th>\n",
              "      <td>4339.0</td>\n",
              "      <td>1391.915057</td>\n",
              "      <td>2196.754400</td>\n",
              "      <td>-4287.63</td>\n",
              "      <td>291.475</td>\n",
              "      <td>642.020</td>\n",
              "      <td>1561.0700</td>\n",
              "      <td>25748.35</td>\n",
              "    </tr>\n",
              "    <tr>\n",
              "      <th>1</th>\n",
              "      <td>30.0</td>\n",
              "      <td>51237.890000</td>\n",
              "      <td>28724.151854</td>\n",
              "      <td>26626.80</td>\n",
              "      <td>30550.635</td>\n",
              "      <td>45378.135</td>\n",
              "      <td>57319.6375</td>\n",
              "      <td>132572.62</td>\n",
              "    </tr>\n",
              "    <tr>\n",
              "      <th>2</th>\n",
              "      <td>3.0</td>\n",
              "      <td>241136.560000</td>\n",
              "      <td>47874.073443</td>\n",
              "      <td>187482.17</td>\n",
              "      <td>221960.330</td>\n",
              "      <td>256438.490</td>\n",
              "      <td>267963.7550</td>\n",
              "      <td>279489.02</td>\n",
              "    </tr>\n",
              "  </tbody>\n",
              "</table>\n",
              "</div>\n",
              "      <button class=\"colab-df-convert\" onclick=\"convertToInteractive('df-86f84ae7-a3cf-4912-a82d-b006079c25b6')\"\n",
              "              title=\"Convert this dataframe to an interactive table.\"\n",
              "              style=\"display:none;\">\n",
              "        \n",
              "  <svg xmlns=\"http://www.w3.org/2000/svg\" height=\"24px\"viewBox=\"0 0 24 24\"\n",
              "       width=\"24px\">\n",
              "    <path d=\"M0 0h24v24H0V0z\" fill=\"none\"/>\n",
              "    <path d=\"M18.56 5.44l.94 2.06.94-2.06 2.06-.94-2.06-.94-.94-2.06-.94 2.06-2.06.94zm-11 1L8.5 8.5l.94-2.06 2.06-.94-2.06-.94L8.5 2.5l-.94 2.06-2.06.94zm10 10l.94 2.06.94-2.06 2.06-.94-2.06-.94-.94-2.06-.94 2.06-2.06.94z\"/><path d=\"M17.41 7.96l-1.37-1.37c-.4-.4-.92-.59-1.43-.59-.52 0-1.04.2-1.43.59L10.3 9.45l-7.72 7.72c-.78.78-.78 2.05 0 2.83L4 21.41c.39.39.9.59 1.41.59.51 0 1.02-.2 1.41-.59l7.78-7.78 2.81-2.81c.8-.78.8-2.07 0-2.86zM5.41 20L4 18.59l7.72-7.72 1.47 1.35L5.41 20z\"/>\n",
              "  </svg>\n",
              "      </button>\n",
              "      \n",
              "  <style>\n",
              "    .colab-df-container {\n",
              "      display:flex;\n",
              "      flex-wrap:wrap;\n",
              "      gap: 12px;\n",
              "    }\n",
              "\n",
              "    .colab-df-convert {\n",
              "      background-color: #E8F0FE;\n",
              "      border: none;\n",
              "      border-radius: 50%;\n",
              "      cursor: pointer;\n",
              "      display: none;\n",
              "      fill: #1967D2;\n",
              "      height: 32px;\n",
              "      padding: 0 0 0 0;\n",
              "      width: 32px;\n",
              "    }\n",
              "\n",
              "    .colab-df-convert:hover {\n",
              "      background-color: #E2EBFA;\n",
              "      box-shadow: 0px 1px 2px rgba(60, 64, 67, 0.3), 0px 1px 3px 1px rgba(60, 64, 67, 0.15);\n",
              "      fill: #174EA6;\n",
              "    }\n",
              "\n",
              "    [theme=dark] .colab-df-convert {\n",
              "      background-color: #3B4455;\n",
              "      fill: #D2E3FC;\n",
              "    }\n",
              "\n",
              "    [theme=dark] .colab-df-convert:hover {\n",
              "      background-color: #434B5C;\n",
              "      box-shadow: 0px 1px 3px 1px rgba(0, 0, 0, 0.15);\n",
              "      filter: drop-shadow(0px 1px 2px rgba(0, 0, 0, 0.3));\n",
              "      fill: #FFFFFF;\n",
              "    }\n",
              "  </style>\n",
              "\n",
              "      <script>\n",
              "        const buttonEl =\n",
              "          document.querySelector('#df-86f84ae7-a3cf-4912-a82d-b006079c25b6 button.colab-df-convert');\n",
              "        buttonEl.style.display =\n",
              "          google.colab.kernel.accessAllowed ? 'block' : 'none';\n",
              "\n",
              "        async function convertToInteractive(key) {\n",
              "          const element = document.querySelector('#df-86f84ae7-a3cf-4912-a82d-b006079c25b6');\n",
              "          const dataTable =\n",
              "            await google.colab.kernel.invokeFunction('convertToInteractive',\n",
              "                                                     [key], {});\n",
              "          if (!dataTable) return;\n",
              "\n",
              "          const docLinkHtml = 'Like what you see? Visit the ' +\n",
              "            '<a target=\"_blank\" href=https://colab.research.google.com/notebooks/data_table.ipynb>data table notebook</a>'\n",
              "            + ' to learn more about interactive tables.';\n",
              "          element.innerHTML = '';\n",
              "          dataTable['output_type'] = 'display_data';\n",
              "          await google.colab.output.renderOutput(dataTable, element);\n",
              "          const docLink = document.createElement('div');\n",
              "          docLink.innerHTML = docLinkHtml;\n",
              "          element.appendChild(docLink);\n",
              "        }\n",
              "      </script>\n",
              "    </div>\n",
              "  </div>\n",
              "  "
            ]
          },
          "metadata": {},
          "execution_count": 54
        }
      ]
    },
    {
      "cell_type": "markdown",
      "source": [
        "**We use the Zscore technique to remove the outliers.**\n",
        "\n",
        " We also remove all the negative revenue values in the data set."
      ],
      "metadata": {
        "id": "dFBMa1HgHJuS"
      }
    },
    {
      "cell_type": "code",
      "source": [
        "df['zscore']=(df.Revenue-df.Revenue.mean())/df.Revenue.std()"
      ],
      "metadata": {
        "id": "a068u5Jb_RhK"
      },
      "execution_count": 61,
      "outputs": []
    },
    {
      "cell_type": "code",
      "source": [
        "df_no_outliers=pd.DataFrame(df[(df.zscore<4) & (df.Revenue>0)])\n",
        "df_no_outliers.head()"
      ],
      "metadata": {
        "colab": {
          "base_uri": "https://localhost:8080/",
          "height": 206
        },
        "id": "uI023pRiB-GA",
        "outputId": "f48388e9-8f40-45e7-846a-435fe835883c"
      },
      "execution_count": 87,
      "outputs": [
        {
          "output_type": "execute_result",
          "data": {
            "text/plain": [
              "   CustomerID  Recency  RecencyCluster  Frequency  FrequencyCluster  Revenue  \\\n",
              "0     17850.0      301               0        312                 1  5288.63   \n",
              "1     15808.0      305               0        210                 1  3724.77   \n",
              "2     13047.0       31               3        196                 1  3079.10   \n",
              "3     12583.0        2               3        251                 1  7187.34   \n",
              "4     14688.0        7               3        359                 1  5107.38   \n",
              "\n",
              "   RevenueCluster  OverallScore    Segment  LTVCluster    zscore  \n",
              "0               0             1  Low-Value           0  0.412462  \n",
              "1               0             1  Low-Value           0  0.222197  \n",
              "2               0             4  Mid-Value           0  0.143642  \n",
              "3               0             4  Mid-Value           0  0.643467  \n",
              "4               0             4  Mid-Value           0  0.390411  "
            ],
            "text/html": [
              "\n",
              "  <div id=\"df-42b8e543-8d71-49eb-88d5-930e46fff6b0\">\n",
              "    <div class=\"colab-df-container\">\n",
              "      <div>\n",
              "<style scoped>\n",
              "    .dataframe tbody tr th:only-of-type {\n",
              "        vertical-align: middle;\n",
              "    }\n",
              "\n",
              "    .dataframe tbody tr th {\n",
              "        vertical-align: top;\n",
              "    }\n",
              "\n",
              "    .dataframe thead th {\n",
              "        text-align: right;\n",
              "    }\n",
              "</style>\n",
              "<table border=\"1\" class=\"dataframe\">\n",
              "  <thead>\n",
              "    <tr style=\"text-align: right;\">\n",
              "      <th></th>\n",
              "      <th>CustomerID</th>\n",
              "      <th>Recency</th>\n",
              "      <th>RecencyCluster</th>\n",
              "      <th>Frequency</th>\n",
              "      <th>FrequencyCluster</th>\n",
              "      <th>Revenue</th>\n",
              "      <th>RevenueCluster</th>\n",
              "      <th>OverallScore</th>\n",
              "      <th>Segment</th>\n",
              "      <th>LTVCluster</th>\n",
              "      <th>zscore</th>\n",
              "    </tr>\n",
              "  </thead>\n",
              "  <tbody>\n",
              "    <tr>\n",
              "      <th>0</th>\n",
              "      <td>17850.0</td>\n",
              "      <td>301</td>\n",
              "      <td>0</td>\n",
              "      <td>312</td>\n",
              "      <td>1</td>\n",
              "      <td>5288.63</td>\n",
              "      <td>0</td>\n",
              "      <td>1</td>\n",
              "      <td>Low-Value</td>\n",
              "      <td>0</td>\n",
              "      <td>0.412462</td>\n",
              "    </tr>\n",
              "    <tr>\n",
              "      <th>1</th>\n",
              "      <td>15808.0</td>\n",
              "      <td>305</td>\n",
              "      <td>0</td>\n",
              "      <td>210</td>\n",
              "      <td>1</td>\n",
              "      <td>3724.77</td>\n",
              "      <td>0</td>\n",
              "      <td>1</td>\n",
              "      <td>Low-Value</td>\n",
              "      <td>0</td>\n",
              "      <td>0.222197</td>\n",
              "    </tr>\n",
              "    <tr>\n",
              "      <th>2</th>\n",
              "      <td>13047.0</td>\n",
              "      <td>31</td>\n",
              "      <td>3</td>\n",
              "      <td>196</td>\n",
              "      <td>1</td>\n",
              "      <td>3079.10</td>\n",
              "      <td>0</td>\n",
              "      <td>4</td>\n",
              "      <td>Mid-Value</td>\n",
              "      <td>0</td>\n",
              "      <td>0.143642</td>\n",
              "    </tr>\n",
              "    <tr>\n",
              "      <th>3</th>\n",
              "      <td>12583.0</td>\n",
              "      <td>2</td>\n",
              "      <td>3</td>\n",
              "      <td>251</td>\n",
              "      <td>1</td>\n",
              "      <td>7187.34</td>\n",
              "      <td>0</td>\n",
              "      <td>4</td>\n",
              "      <td>Mid-Value</td>\n",
              "      <td>0</td>\n",
              "      <td>0.643467</td>\n",
              "    </tr>\n",
              "    <tr>\n",
              "      <th>4</th>\n",
              "      <td>14688.0</td>\n",
              "      <td>7</td>\n",
              "      <td>3</td>\n",
              "      <td>359</td>\n",
              "      <td>1</td>\n",
              "      <td>5107.38</td>\n",
              "      <td>0</td>\n",
              "      <td>4</td>\n",
              "      <td>Mid-Value</td>\n",
              "      <td>0</td>\n",
              "      <td>0.390411</td>\n",
              "    </tr>\n",
              "  </tbody>\n",
              "</table>\n",
              "</div>\n",
              "      <button class=\"colab-df-convert\" onclick=\"convertToInteractive('df-42b8e543-8d71-49eb-88d5-930e46fff6b0')\"\n",
              "              title=\"Convert this dataframe to an interactive table.\"\n",
              "              style=\"display:none;\">\n",
              "        \n",
              "  <svg xmlns=\"http://www.w3.org/2000/svg\" height=\"24px\"viewBox=\"0 0 24 24\"\n",
              "       width=\"24px\">\n",
              "    <path d=\"M0 0h24v24H0V0z\" fill=\"none\"/>\n",
              "    <path d=\"M18.56 5.44l.94 2.06.94-2.06 2.06-.94-2.06-.94-.94-2.06-.94 2.06-2.06.94zm-11 1L8.5 8.5l.94-2.06 2.06-.94-2.06-.94L8.5 2.5l-.94 2.06-2.06.94zm10 10l.94 2.06.94-2.06 2.06-.94-2.06-.94-.94-2.06-.94 2.06-2.06.94z\"/><path d=\"M17.41 7.96l-1.37-1.37c-.4-.4-.92-.59-1.43-.59-.52 0-1.04.2-1.43.59L10.3 9.45l-7.72 7.72c-.78.78-.78 2.05 0 2.83L4 21.41c.39.39.9.59 1.41.59.51 0 1.02-.2 1.41-.59l7.78-7.78 2.81-2.81c.8-.78.8-2.07 0-2.86zM5.41 20L4 18.59l7.72-7.72 1.47 1.35L5.41 20z\"/>\n",
              "  </svg>\n",
              "      </button>\n",
              "      \n",
              "  <style>\n",
              "    .colab-df-container {\n",
              "      display:flex;\n",
              "      flex-wrap:wrap;\n",
              "      gap: 12px;\n",
              "    }\n",
              "\n",
              "    .colab-df-convert {\n",
              "      background-color: #E8F0FE;\n",
              "      border: none;\n",
              "      border-radius: 50%;\n",
              "      cursor: pointer;\n",
              "      display: none;\n",
              "      fill: #1967D2;\n",
              "      height: 32px;\n",
              "      padding: 0 0 0 0;\n",
              "      width: 32px;\n",
              "    }\n",
              "\n",
              "    .colab-df-convert:hover {\n",
              "      background-color: #E2EBFA;\n",
              "      box-shadow: 0px 1px 2px rgba(60, 64, 67, 0.3), 0px 1px 3px 1px rgba(60, 64, 67, 0.15);\n",
              "      fill: #174EA6;\n",
              "    }\n",
              "\n",
              "    [theme=dark] .colab-df-convert {\n",
              "      background-color: #3B4455;\n",
              "      fill: #D2E3FC;\n",
              "    }\n",
              "\n",
              "    [theme=dark] .colab-df-convert:hover {\n",
              "      background-color: #434B5C;\n",
              "      box-shadow: 0px 1px 3px 1px rgba(0, 0, 0, 0.15);\n",
              "      filter: drop-shadow(0px 1px 2px rgba(0, 0, 0, 0.3));\n",
              "      fill: #FFFFFF;\n",
              "    }\n",
              "  </style>\n",
              "\n",
              "      <script>\n",
              "        const buttonEl =\n",
              "          document.querySelector('#df-42b8e543-8d71-49eb-88d5-930e46fff6b0 button.colab-df-convert');\n",
              "        buttonEl.style.display =\n",
              "          google.colab.kernel.accessAllowed ? 'block' : 'none';\n",
              "\n",
              "        async function convertToInteractive(key) {\n",
              "          const element = document.querySelector('#df-42b8e543-8d71-49eb-88d5-930e46fff6b0');\n",
              "          const dataTable =\n",
              "            await google.colab.kernel.invokeFunction('convertToInteractive',\n",
              "                                                     [key], {});\n",
              "          if (!dataTable) return;\n",
              "\n",
              "          const docLinkHtml = 'Like what you see? Visit the ' +\n",
              "            '<a target=\"_blank\" href=https://colab.research.google.com/notebooks/data_table.ipynb>data table notebook</a>'\n",
              "            + ' to learn more about interactive tables.';\n",
              "          element.innerHTML = '';\n",
              "          dataTable['output_type'] = 'display_data';\n",
              "          await google.colab.output.renderOutput(dataTable, element);\n",
              "          const docLink = document.createElement('div');\n",
              "          docLink.innerHTML = docLinkHtml;\n",
              "          element.appendChild(docLink);\n",
              "        }\n",
              "      </script>\n",
              "    </div>\n",
              "  </div>\n",
              "  "
            ]
          },
          "metadata": {},
          "execution_count": 87
        }
      ]
    },
    {
      "cell_type": "code",
      "source": [
        "kmeans = KMeans(n_clusters=3)\n",
        "kmeans.fit(df_no_outliers[['Revenue']])\n",
        "df_no_outliers['LTVCluster'] = kmeans.predict(df_no_outliers[['Revenue']])\n",
        "\n",
        "df_no_outliers = order_cluster('LTVCluster', 'Revenue',df_no_outliers,True)"
      ],
      "metadata": {
        "id": "LK3RLYp_FYcC"
      },
      "execution_count": 88,
      "outputs": []
    },
    {
      "cell_type": "code",
      "source": [
        "df_no_outliers .groupby('LTVCluster')['Revenue'].describe()\n",
        "#After removing ouliers"
      ],
      "metadata": {
        "colab": {
          "base_uri": "https://localhost:8080/",
          "height": 175
        },
        "id": "iMS1pdt2FlMr",
        "outputId": "f139afa4-13a0-4361-8da2-c23064d6c88a"
      },
      "execution_count": 89,
      "outputs": [
        {
          "output_type": "execute_result",
          "data": {
            "text/plain": [
              "             count          mean          std           min         25%  \\\n",
              "LTVCluster                                                                \n",
              "0           3837.0    826.265075   746.530444  1.776357e-15    270.6000   \n",
              "1            424.0   5654.484413  2368.016145  3.245470e+03   3851.5125   \n",
              "2             41.0  21316.093902  6594.070192  1.361207e+04  16173.6700   \n",
              "\n",
              "                  50%       75%       max  \n",
              "LTVCluster                                 \n",
              "0             561.570   1156.36   3228.84  \n",
              "1            4865.935   6746.12  13375.87  \n",
              "2           18793.410  26932.34  33805.69  "
            ],
            "text/html": [
              "\n",
              "  <div id=\"df-913d1f67-c099-44c4-b296-7a2e0fc873fc\">\n",
              "    <div class=\"colab-df-container\">\n",
              "      <div>\n",
              "<style scoped>\n",
              "    .dataframe tbody tr th:only-of-type {\n",
              "        vertical-align: middle;\n",
              "    }\n",
              "\n",
              "    .dataframe tbody tr th {\n",
              "        vertical-align: top;\n",
              "    }\n",
              "\n",
              "    .dataframe thead th {\n",
              "        text-align: right;\n",
              "    }\n",
              "</style>\n",
              "<table border=\"1\" class=\"dataframe\">\n",
              "  <thead>\n",
              "    <tr style=\"text-align: right;\">\n",
              "      <th></th>\n",
              "      <th>count</th>\n",
              "      <th>mean</th>\n",
              "      <th>std</th>\n",
              "      <th>min</th>\n",
              "      <th>25%</th>\n",
              "      <th>50%</th>\n",
              "      <th>75%</th>\n",
              "      <th>max</th>\n",
              "    </tr>\n",
              "    <tr>\n",
              "      <th>LTVCluster</th>\n",
              "      <th></th>\n",
              "      <th></th>\n",
              "      <th></th>\n",
              "      <th></th>\n",
              "      <th></th>\n",
              "      <th></th>\n",
              "      <th></th>\n",
              "      <th></th>\n",
              "    </tr>\n",
              "  </thead>\n",
              "  <tbody>\n",
              "    <tr>\n",
              "      <th>0</th>\n",
              "      <td>3837.0</td>\n",
              "      <td>826.265075</td>\n",
              "      <td>746.530444</td>\n",
              "      <td>1.776357e-15</td>\n",
              "      <td>270.6000</td>\n",
              "      <td>561.570</td>\n",
              "      <td>1156.36</td>\n",
              "      <td>3228.84</td>\n",
              "    </tr>\n",
              "    <tr>\n",
              "      <th>1</th>\n",
              "      <td>424.0</td>\n",
              "      <td>5654.484413</td>\n",
              "      <td>2368.016145</td>\n",
              "      <td>3.245470e+03</td>\n",
              "      <td>3851.5125</td>\n",
              "      <td>4865.935</td>\n",
              "      <td>6746.12</td>\n",
              "      <td>13375.87</td>\n",
              "    </tr>\n",
              "    <tr>\n",
              "      <th>2</th>\n",
              "      <td>41.0</td>\n",
              "      <td>21316.093902</td>\n",
              "      <td>6594.070192</td>\n",
              "      <td>1.361207e+04</td>\n",
              "      <td>16173.6700</td>\n",
              "      <td>18793.410</td>\n",
              "      <td>26932.34</td>\n",
              "      <td>33805.69</td>\n",
              "    </tr>\n",
              "  </tbody>\n",
              "</table>\n",
              "</div>\n",
              "      <button class=\"colab-df-convert\" onclick=\"convertToInteractive('df-913d1f67-c099-44c4-b296-7a2e0fc873fc')\"\n",
              "              title=\"Convert this dataframe to an interactive table.\"\n",
              "              style=\"display:none;\">\n",
              "        \n",
              "  <svg xmlns=\"http://www.w3.org/2000/svg\" height=\"24px\"viewBox=\"0 0 24 24\"\n",
              "       width=\"24px\">\n",
              "    <path d=\"M0 0h24v24H0V0z\" fill=\"none\"/>\n",
              "    <path d=\"M18.56 5.44l.94 2.06.94-2.06 2.06-.94-2.06-.94-.94-2.06-.94 2.06-2.06.94zm-11 1L8.5 8.5l.94-2.06 2.06-.94-2.06-.94L8.5 2.5l-.94 2.06-2.06.94zm10 10l.94 2.06.94-2.06 2.06-.94-2.06-.94-.94-2.06-.94 2.06-2.06.94z\"/><path d=\"M17.41 7.96l-1.37-1.37c-.4-.4-.92-.59-1.43-.59-.52 0-1.04.2-1.43.59L10.3 9.45l-7.72 7.72c-.78.78-.78 2.05 0 2.83L4 21.41c.39.39.9.59 1.41.59.51 0 1.02-.2 1.41-.59l7.78-7.78 2.81-2.81c.8-.78.8-2.07 0-2.86zM5.41 20L4 18.59l7.72-7.72 1.47 1.35L5.41 20z\"/>\n",
              "  </svg>\n",
              "      </button>\n",
              "      \n",
              "  <style>\n",
              "    .colab-df-container {\n",
              "      display:flex;\n",
              "      flex-wrap:wrap;\n",
              "      gap: 12px;\n",
              "    }\n",
              "\n",
              "    .colab-df-convert {\n",
              "      background-color: #E8F0FE;\n",
              "      border: none;\n",
              "      border-radius: 50%;\n",
              "      cursor: pointer;\n",
              "      display: none;\n",
              "      fill: #1967D2;\n",
              "      height: 32px;\n",
              "      padding: 0 0 0 0;\n",
              "      width: 32px;\n",
              "    }\n",
              "\n",
              "    .colab-df-convert:hover {\n",
              "      background-color: #E2EBFA;\n",
              "      box-shadow: 0px 1px 2px rgba(60, 64, 67, 0.3), 0px 1px 3px 1px rgba(60, 64, 67, 0.15);\n",
              "      fill: #174EA6;\n",
              "    }\n",
              "\n",
              "    [theme=dark] .colab-df-convert {\n",
              "      background-color: #3B4455;\n",
              "      fill: #D2E3FC;\n",
              "    }\n",
              "\n",
              "    [theme=dark] .colab-df-convert:hover {\n",
              "      background-color: #434B5C;\n",
              "      box-shadow: 0px 1px 3px 1px rgba(0, 0, 0, 0.15);\n",
              "      filter: drop-shadow(0px 1px 2px rgba(0, 0, 0, 0.3));\n",
              "      fill: #FFFFFF;\n",
              "    }\n",
              "  </style>\n",
              "\n",
              "      <script>\n",
              "        const buttonEl =\n",
              "          document.querySelector('#df-913d1f67-c099-44c4-b296-7a2e0fc873fc button.colab-df-convert');\n",
              "        buttonEl.style.display =\n",
              "          google.colab.kernel.accessAllowed ? 'block' : 'none';\n",
              "\n",
              "        async function convertToInteractive(key) {\n",
              "          const element = document.querySelector('#df-913d1f67-c099-44c4-b296-7a2e0fc873fc');\n",
              "          const dataTable =\n",
              "            await google.colab.kernel.invokeFunction('convertToInteractive',\n",
              "                                                     [key], {});\n",
              "          if (!dataTable) return;\n",
              "\n",
              "          const docLinkHtml = 'Like what you see? Visit the ' +\n",
              "            '<a target=\"_blank\" href=https://colab.research.google.com/notebooks/data_table.ipynb>data table notebook</a>'\n",
              "            + ' to learn more about interactive tables.';\n",
              "          element.innerHTML = '';\n",
              "          dataTable['output_type'] = 'display_data';\n",
              "          await google.colab.output.renderOutput(dataTable, element);\n",
              "          const docLink = document.createElement('div');\n",
              "          docLink.innerHTML = docLinkHtml;\n",
              "          element.appendChild(docLink);\n",
              "        }\n",
              "      </script>\n",
              "    </div>\n",
              "  </div>\n",
              "  "
            ]
          },
          "metadata": {},
          "execution_count": 89
        }
      ]
    },
    {
      "cell_type": "markdown",
      "source": [
        "2 is the best LTV with an average of arounf 21.3k and 0 is the worst LTV with mean of around 746."
      ],
      "metadata": {
        "id": "8Kn2MBOiLSFZ"
      }
    },
    {
      "cell_type": "markdown",
      "source": [
        "**Feature engineering**\n",
        "\n",
        "We convert some categorical columns to numerical and drop some irrelevant columns."
      ],
      "metadata": {
        "id": "ofQqrbJVLfQY"
      }
    },
    {
      "cell_type": "code",
      "source": [
        "#dropping irrelevant columns\n",
        "df_no_outliers =df_no_outliers.drop(['zscore'],axis=1)"
      ],
      "metadata": {
        "id": "e37enXJSLvs_"
      },
      "execution_count": 95,
      "outputs": []
    },
    {
      "cell_type": "code",
      "source": [
        "df_pred=pd.get_dummies(df_no_outliers)"
      ],
      "metadata": {
        "id": "1NINqEcbPgom"
      },
      "execution_count": 96,
      "outputs": []
    },
    {
      "cell_type": "code",
      "source": [
        "#Correlation matrix \n",
        "corr_matrix = df_pred.corr()\n",
        "corr_matrix['LTVCluster'].sort_values(ascending=False)"
      ],
      "metadata": {
        "colab": {
          "base_uri": "https://localhost:8080/"
        },
        "id": "0HXmhnjiPuEg",
        "outputId": "70da724b-f548-408b-f138-f939ac037b61"
      },
      "execution_count": 101,
      "outputs": [
        {
          "output_type": "execute_result",
          "data": {
            "text/plain": [
              "LTVCluster            1.000000\n",
              "Revenue               0.831512\n",
              "RevenueCluster        0.568829\n",
              "FrequencyCluster      0.552001\n",
              "Frequency             0.513925\n",
              "Segment_High-Value    0.486739\n",
              "OverallScore          0.422320\n",
              "RecencyCluster        0.228579\n",
              "Segment_Mid-Value     0.133689\n",
              "CustomerID           -0.066051\n",
              "Recency              -0.224399\n",
              "Segment_Low-Value    -0.266798\n",
              "Name: LTVCluster, dtype: float64"
            ]
          },
          "metadata": {},
          "execution_count": 101
        }
      ]
    },
    {
      "cell_type": "code",
      "source": [
        "sns.heatmap(corr_matrix)"
      ],
      "metadata": {
        "colab": {
          "base_uri": "https://localhost:8080/",
          "height": 381
        },
        "id": "DKz57J8qQeA8",
        "outputId": "d5df7e5a-bd6c-4a6b-d124-3b18543ee862"
      },
      "execution_count": 100,
      "outputs": [
        {
          "output_type": "execute_result",
          "data": {
            "text/plain": [
              "<matplotlib.axes._subplots.AxesSubplot at 0x7f9d5f3831f0>"
            ]
          },
          "metadata": {},
          "execution_count": 100
        },
        {
          "output_type": "display_data",
          "data": {
            "text/plain": [
              "<Figure size 432x288 with 2 Axes>"
            ],
            "image/png": "[encoded data removed]"
          },
          "metadata": {}
        }
      ]
    }
  ]
}